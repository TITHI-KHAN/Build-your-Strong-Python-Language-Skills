{
  "nbformat": 4,
  "nbformat_minor": 0,
  "metadata": {
    "colab": {
      "provenance": []
    },
    "kernelspec": {
      "name": "python3",
      "display_name": "Python 3"
    },
    "language_info": {
      "name": "python"
    }
  },
  "cells": [
    {
      "cell_type": "markdown",
      "source": [
        "**3. Write a program to check if a given number is prime.**"
      ],
      "metadata": {
        "id": "ITmWlMwm7UMd"
      }
    },
    {
      "cell_type": "code",
      "source": [
        "def is_prime(number):\n",
        "    if number <= 1:  #We first check if the number is less than or equal to 1, as prime numbers are defined as greater than 1.\n",
        "        return False\n",
        "\n",
        "    for i in range(2, int(number**0.5) + 1): #If the number passes this check, we iterate from 2 to the square root of the number (rounded up to the nearest integer).\n",
        "        if number % i == 0: #uring each iteration, we check if the number is divisible by the current value of i\n",
        "            return False #return False because it is not a prime number.\n",
        "\n",
        "    return True #If none of the divisions result in a remainder of 0, we return True, indicating that the number is prime.\n",
        "\n",
        "# Example usage\n",
        "num = int(input(\"Enter a number: \"))\n",
        "\n",
        "if is_prime(num):\n",
        "    print(num, \"is a prime number.\")\n",
        "else:\n",
        "    print(num, \"is not a prime number.\")\n"
      ],
      "metadata": {
        "colab": {
          "base_uri": "https://localhost:8080/"
        },
        "id": "2IHk5QoJ7Wax",
        "outputId": "0ea3322d-ab69-45cd-e847-35ebd33b7a43"
      },
      "execution_count": 9,
      "outputs": [
        {
          "output_type": "stream",
          "name": "stdout",
          "text": [
            "Enter a number: 17\n",
            "17 is a prime number.\n"
          ]
        }
      ]
    }
  ]
}