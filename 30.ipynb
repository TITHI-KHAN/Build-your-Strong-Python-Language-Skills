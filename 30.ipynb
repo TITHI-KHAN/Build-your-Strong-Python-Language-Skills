{
  "nbformat": 4,
  "nbformat_minor": 0,
  "metadata": {
    "colab": {
      "provenance": []
    },
    "kernelspec": {
      "name": "python3",
      "display_name": "Python 3"
    },
    "language_info": {
      "name": "python"
    }
  },
  "cells": [
    {
      "cell_type": "markdown",
      "source": [
        "**30. Calculate the power of a number.**"
      ],
      "metadata": {
        "id": "ITmWlMwm7UMd"
      }
    },
    {
      "cell_type": "markdown",
      "source": [
        "Using the exponentiation operator (**):"
      ],
      "metadata": {
        "id": "JOBP3Awld_cN"
      }
    },
    {
      "cell_type": "code",
      "source": [
        "def calculate_power(base, exponent):\n",
        "    result = base ** exponent\n",
        "    return result\n",
        "\n",
        "# Example usage\n",
        "base_number = float(input(\"Enter the base number: \"))\n",
        "exponent_number = float(input(\"Enter the exponent: \"))\n",
        "\n",
        "power_result = calculate_power(base_number, exponent_number)\n",
        "\n",
        "print(\"Result:\", power_result)\n"
      ],
      "metadata": {
        "colab": {
          "base_uri": "https://localhost:8080/"
        },
        "id": "2IHk5QoJ7Wax",
        "outputId": "60be9632-162a-41cb-e4d5-51666f0d506d"
      },
      "execution_count": 80,
      "outputs": [
        {
          "output_type": "stream",
          "name": "stdout",
          "text": [
            "Enter the base number: 3\n",
            "Enter the exponent: 2\n",
            "Result: 9.0\n"
          ]
        }
      ]
    },
    {
      "cell_type": "markdown",
      "source": [
        "Using the pow() function:"
      ],
      "metadata": {
        "id": "sCWjsC1ieCPD"
      }
    },
    {
      "cell_type": "code",
      "source": [
        "def calculate_power(base, exponent):\n",
        "    result = pow(base, exponent)\n",
        "    return result\n",
        "\n",
        "# Example usage\n",
        "base_number = float(input(\"Enter the base number: \"))\n",
        "exponent_number = float(input(\"Enter the exponent: \"))\n",
        "\n",
        "power_result = calculate_power(base_number, exponent_number)\n",
        "\n",
        "print(\"Result:\", power_result)\n"
      ],
      "metadata": {
        "id": "VnnYoS5dd4zj",
        "outputId": "23dbe5de-0d51-4d73-8d4e-481e8362f19e",
        "colab": {
          "base_uri": "https://localhost:8080/"
        }
      },
      "execution_count": 81,
      "outputs": [
        {
          "output_type": "stream",
          "name": "stdout",
          "text": [
            "Enter the base number: 4\n",
            "Enter the exponent: 2\n",
            "Result: 16.0\n"
          ]
        }
      ]
    }
  ]
}