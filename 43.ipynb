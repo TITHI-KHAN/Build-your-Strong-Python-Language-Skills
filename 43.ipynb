{
  "nbformat": 4,
  "nbformat_minor": 0,
  "metadata": {
    "colab": {
      "provenance": []
    },
    "kernelspec": {
      "name": "python3",
      "display_name": "Python 3"
    },
    "language_info": {
      "name": "python"
    }
  },
  "cells": [
    {
      "cell_type": "markdown",
      "source": [
        "**43. Find the number of words starting with a specific letter in a sentence.**"
      ],
      "metadata": {
        "id": "ITmWlMwm7UMd"
      }
    },
    {
      "cell_type": "code",
      "source": [
        "def count_words_starting_with_letter(sentence, letter):\n",
        "    words = sentence.split()\n",
        "    count = 0\n",
        "    for word in words:\n",
        "        if word.startswith(letter):\n",
        "            count += 1\n",
        "    return count\n",
        "\n",
        "# Example usage\n",
        "sentence = input(\"Enter a sentence: \")\n",
        "letter = input(\"Enter a letter: \")\n",
        "\n",
        "word_count = count_words_starting_with_letter(sentence, letter)\n",
        "print(f\"Number of words starting with '{letter}': {word_count}\")\n"
      ],
      "metadata": {
        "colab": {
          "base_uri": "https://localhost:8080/"
        },
        "id": "2IHk5QoJ7Wax",
        "outputId": "7c6211af-cf17-4efe-adf3-ebb8c91647ec"
      },
      "execution_count": 132,
      "outputs": [
        {
          "output_type": "stream",
          "name": "stdout",
          "text": [
            "Enter a sentence: The quick brown fox jumps over The lazy dog\n",
            "Enter a letter: T\n",
            "Number of words starting with 'T': 2\n"
          ]
        }
      ]
    }
  ]
}