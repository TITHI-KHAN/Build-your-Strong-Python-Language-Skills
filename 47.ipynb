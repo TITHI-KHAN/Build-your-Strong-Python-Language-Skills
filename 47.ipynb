{
  "nbformat": 4,
  "nbformat_minor": 0,
  "metadata": {
    "colab": {
      "provenance": []
    },
    "kernelspec": {
      "name": "python3",
      "display_name": "Python 3"
    },
    "language_info": {
      "name": "python"
    }
  },
  "cells": [
    {
      "cell_type": "markdown",
      "source": [
        "**47. Given a list of tuples, convert it into a dictionary.**"
      ],
      "metadata": {
        "id": "ITmWlMwm7UMd"
      }
    },
    {
      "cell_type": "code",
      "source": [
        "my_list = [('a', 1), ('b', 2), ('c', 3)]\n",
        "\n",
        "my_dict = dict(my_list)\n",
        "\n",
        "print(my_dict) #where the first element of each tuple becomes the key and the second element becomes the corresponding value in the dictionary.\n"
      ],
      "metadata": {
        "colab": {
          "base_uri": "https://localhost:8080/"
        },
        "id": "2IHk5QoJ7Wax",
        "outputId": "0e232583-311a-4886-831f-391dc441b911"
      },
      "execution_count": 147,
      "outputs": [
        {
          "output_type": "stream",
          "name": "stdout",
          "text": [
            "{'a': 1, 'b': 2, 'c': 3}\n"
          ]
        }
      ]
    }
  ]
}