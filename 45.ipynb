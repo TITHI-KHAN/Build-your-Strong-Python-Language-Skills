{
  "nbformat": 4,
  "nbformat_minor": 0,
  "metadata": {
    "colab": {
      "provenance": []
    },
    "kernelspec": {
      "name": "python3",
      "display_name": "Python 3"
    },
    "language_info": {
      "name": "python"
    }
  },
  "cells": [
    {
      "cell_type": "markdown",
      "source": [
        "**45. Check if a given list is sorted in non-decreasing order.**"
      ],
      "metadata": {
        "id": "ITmWlMwm7UMd"
      }
    },
    {
      "cell_type": "code",
      "source": [
        "#If at any point, an element is found to be greater than the next element, it means the list is not sorted in non-decreasing order.\n",
        "\n",
        "def is_sorted(numbers): #If all the comparisons result in either equal or lesser values, then the list is sorted in non-decreasing order.\n",
        "    for i in range(len(numbers) - 1): #The reason for using len(numbers) - 1 is to ensure that we don't go beyond the last element when comparing with its adjacent element.\n",
        "        if numbers[i] > numbers[i + 1]:\n",
        "            return False\n",
        "    return True\n",
        "\n",
        "# Example usage\n",
        "number_list = [1, 2, 3, 4, 5]\n",
        "sorted_check = is_sorted(number_list)\n",
        "if sorted_check:\n",
        "    print(\"The list is sorted in non-decreasing order.\")\n",
        "else:\n",
        "    print(\"The list is not sorted in non-decreasing order.\")\n"
      ],
      "metadata": {
        "colab": {
          "base_uri": "https://localhost:8080/"
        },
        "id": "2IHk5QoJ7Wax",
        "outputId": "fa539721-ab25-42f6-ec82-5ccd3bf3211f"
      },
      "execution_count": 142,
      "outputs": [
        {
          "output_type": "stream",
          "name": "stdout",
          "text": [
            "The list is sorted in non-decreasing order.\n"
          ]
        }
      ]
    }
  ]
}