{
  "nbformat": 4,
  "nbformat_minor": 0,
  "metadata": {
    "colab": {
      "provenance": []
    },
    "kernelspec": {
      "name": "python3",
      "display_name": "Python 3"
    },
    "language_info": {
      "name": "python"
    }
  },
  "cells": [
    {
      "cell_type": "markdown",
      "source": [
        "**21. Check if a given number is a perfect square.**"
      ],
      "metadata": {
        "id": "ITmWlMwm7UMd"
      }
    },
    {
      "cell_type": "code",
      "source": [
        "def is_perfect_square(number):\n",
        "    if number < 0:\n",
        "        return False\n",
        "    elif number == 0:\n",
        "        return True\n",
        "    else:\n",
        "        sqrt = int(number ** 0.5) #For other positive numbers, we calculate the square root of the number using the exponentiation operator (**) and convert it to an integer (int(number ** 0.5)). Then, we check if the square of the calculated square root is equal to the original number. If it is, then the number is a perfect square; otherwise, it is not.\n",
        "        return sqrt * sqrt == number\n",
        "\n",
        "# Example usage\n",
        "input_number = int(input(\"Enter a number: \"))\n",
        "\n",
        "if is_perfect_square(input_number):\n",
        "    print(\"The number is a perfect square.\")\n",
        "else:\n",
        "    print(\"The number is not a perfect square.\")\n"
      ],
      "metadata": {
        "colab": {
          "base_uri": "https://localhost:8080/"
        },
        "id": "2IHk5QoJ7Wax",
        "outputId": "62c3975d-e8c2-4745-8e25-3a37d0827771"
      },
      "execution_count": 59,
      "outputs": [
        {
          "output_type": "stream",
          "name": "stdout",
          "text": [
            "Enter a number: 144\n",
            "The number is a perfect square.\n"
          ]
        }
      ]
    }
  ]
}