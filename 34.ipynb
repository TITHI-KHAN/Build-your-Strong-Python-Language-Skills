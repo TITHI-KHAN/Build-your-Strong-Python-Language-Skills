{
  "nbformat": 4,
  "nbformat_minor": 0,
  "metadata": {
    "colab": {
      "provenance": []
    },
    "kernelspec": {
      "name": "python3",
      "display_name": "Python 3"
    },
    "language_info": {
      "name": "python"
    }
  },
  "cells": [
    {
      "cell_type": "markdown",
      "source": [
        "**34. Given a list of strings, find the number of words in each string.**"
      ],
      "metadata": {
        "id": "ITmWlMwm7UMd"
      }
    },
    {
      "cell_type": "code",
      "source": [
        "def count_words_in_strings(string_list):\n",
        "    word_counts = [] #It initializes an empty list word_counts to store the counts of words in each string.\n",
        "\n",
        "    for string in string_list:\n",
        "        words = string.split() #For each string, it uses the split() method to split the string into a list of words. The split() method splits the string at whitespace characters by default.\n",
        "        word_count = len(words)\n",
        "        word_counts.append(word_count)\n",
        "\n",
        "    return word_counts\n",
        "\n",
        "# User input\n",
        "input_list = input(\"Enter a list of strings, separated by commas: \").split(\",\")\n",
        "\n",
        "word_counts = count_words_in_strings(input_list)\n",
        "\n",
        "for i in range(len(input_list)):\n",
        "    print(f\"Number of words in '{input_list[i]}': {word_counts[i]}\")\n"
      ],
      "metadata": {
        "colab": {
          "base_uri": "https://localhost:8080/"
        },
        "id": "2IHk5QoJ7Wax",
        "outputId": "29146c6a-7f37-472c-fcae-81b208644320"
      },
      "execution_count": 98,
      "outputs": [
        {
          "output_type": "stream",
          "name": "stdout",
          "text": [
            "Enter a list of strings, separated by commas: Hello there,how are you doing? I am amazing!\n",
            "Number of words in 'Hello there': 2\n",
            "Number of words in 'how are you doing? I am amazing!': 7\n"
          ]
        }
      ]
    }
  ]
}