{
  "nbformat": 4,
  "nbformat_minor": 0,
  "metadata": {
    "colab": {
      "provenance": []
    },
    "kernelspec": {
      "name": "python3",
      "display_name": "Python 3"
    },
    "language_info": {
      "name": "python"
    }
  },
  "cells": [
    {
      "cell_type": "markdown",
      "source": [
        "**11. Check if the two lists are equal.**"
      ],
      "metadata": {
        "id": "ITmWlMwm7UMd"
      }
    },
    {
      "cell_type": "code",
      "source": [
        "def are_lists_equal(list1, list2):\n",
        "    if len(list1) != len(list2):\n",
        "        return False\n",
        "\n",
        "    for i in range(len(list1)): #we iterate over the elements of the lists using a for loop and compare each corresponding pair of elements.\n",
        "        if list1[i] != list2[i]:\n",
        "            return False\n",
        "\n",
        "    return True\n",
        "\n",
        "# Example usage\n",
        "input_list1 = input(\"Enter elements for the first list, separated by spaces: \")\n",
        "input_list1 = input_list1.split()\n",
        "\n",
        "input_list2 = input(\"Enter elements for the second list, separated by spaces: \")\n",
        "input_list2 = input_list2.split()\n",
        "\n",
        "equal_lists = are_lists_equal(input_list1, input_list2)\n",
        "\n",
        "if equal_lists:\n",
        "    print(\"The lists are equal.\")\n",
        "else:\n",
        "    print(\"The lists are not equal.\")\n"
      ],
      "metadata": {
        "colab": {
          "base_uri": "https://localhost:8080/"
        },
        "id": "2IHk5QoJ7Wax",
        "outputId": "6d8e6dca-10db-4570-8b04-1fe24fe89f6d"
      },
      "execution_count": 27,
      "outputs": [
        {
          "output_type": "stream",
          "name": "stdout",
          "text": [
            "Enter elements for the first list, separated by spaces: 7 8 3\n",
            "Enter elements for the second list, separated by spaces:  7 8 3\n",
            "The lists are equal.\n"
          ]
        }
      ]
    }
  ]
}