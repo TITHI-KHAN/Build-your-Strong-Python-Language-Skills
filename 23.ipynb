{
  "nbformat": 4,
  "nbformat_minor": 0,
  "metadata": {
    "colab": {
      "provenance": []
    },
    "kernelspec": {
      "name": "python3",
      "display_name": "Python 3"
    },
    "language_info": {
      "name": "python"
    }
  },
  "cells": [
    {
      "cell_type": "markdown",
      "source": [
        "**23. Calculate the average of all the even numbers in a list.**"
      ],
      "metadata": {
        "id": "ITmWlMwm7UMd"
      }
    },
    {
      "cell_type": "code",
      "source": [
        "def calculate_average_even(numbers):\n",
        "    even_numbers = [num for num in numbers if num % 2 == 0]\n",
        "    if len(even_numbers) == 0:\n",
        "        return 0\n",
        "    else:\n",
        "        return sum(even_numbers) / len(even_numbers)\n",
        "\n",
        "# Example usage\n",
        "input_list = input(\"Enter a list of numbers, separated by spaces: \")\n",
        "input_list = list(map(int, input_list.split()))\n",
        "\n",
        "average_of_even_numbers = calculate_average_even(input_list)\n",
        "\n",
        "print(\"Average of even numbers:\", average_of_even_numbers)\n"
      ],
      "metadata": {
        "colab": {
          "base_uri": "https://localhost:8080/"
        },
        "id": "2IHk5QoJ7Wax",
        "outputId": "a02f6d35-65d3-4318-896c-6043bb85b69e"
      },
      "execution_count": 62,
      "outputs": [
        {
          "output_type": "stream",
          "name": "stdout",
          "text": [
            "Enter a list of numbers, separated by spaces: 5 2 4 13 12\n",
            "Average of even numbers: 6.0\n"
          ]
        }
      ]
    }
  ]
}