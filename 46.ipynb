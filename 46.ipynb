{
  "nbformat": 4,
  "nbformat_minor": 0,
  "metadata": {
    "colab": {
      "provenance": []
    },
    "kernelspec": {
      "name": "python3",
      "display_name": "Python 3"
    },
    "language_info": {
      "name": "python"
    }
  },
  "cells": [
    {
      "cell_type": "markdown",
      "source": [
        "**46. Find the number of prime numbers in a given range.**"
      ],
      "metadata": {
        "id": "ITmWlMwm7UMd"
      }
    },
    {
      "cell_type": "code",
      "source": [
        "def is_prime(num):\n",
        "    if num <= 1:\n",
        "        return False\n",
        "    for i in range(2, int(num**0.5) + 1): # It uses a basic prime-checking algorithm by iterating from 2 to the square root of the number and checking for divisibility. the expression int(num**0.5) calculates the square root of the number num and converts it to an integer. The + 1 ensures that the range includes the integer square root value.\n",
        "        if num % i == 0: #For each number i in this range, it checks if num is divisible by i. If the remainder of the division (num % i) is equal to 0, it means num is divisible by i, and hence, it is not a prime number. In such cases, the function immediately returns False to indicate that num is not prime.\n",
        "            return False\n",
        "    return True #This indicates that num is not divisible by any number other than 1 and itself, and thus, it is a prime number.\n",
        "\n",
        "def count_primes(start, end):\n",
        "    count = 0\n",
        "    for num in range(start, end + 1): # +1 to ensure that the range includes the end value.\n",
        "        if is_prime(num):\n",
        "            count += 1\n",
        "    return count\n",
        "\n",
        "# Example usage\n",
        "start = int(input(\"Enter the start of the range: \"))\n",
        "end = int(input(\"Enter the end of the range: \"))\n",
        "\n",
        "num_primes = count_primes(start, end)\n",
        "print(f\"The number of prime numbers between {start} and {end} is: {num_primes}\")\n"
      ],
      "metadata": {
        "colab": {
          "base_uri": "https://localhost:8080/"
        },
        "id": "2IHk5QoJ7Wax",
        "outputId": "12ad8f11-2187-450f-c186-8a74190afe70"
      },
      "execution_count": 145,
      "outputs": [
        {
          "output_type": "stream",
          "name": "stdout",
          "text": [
            "Enter the start of the range: 1\n",
            "Enter the end of the range: 11\n",
            "The number of prime numbers between 1 and 11 is: 5\n"
          ]
        }
      ]
    }
  ]
}