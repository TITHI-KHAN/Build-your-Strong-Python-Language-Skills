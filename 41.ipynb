{
  "nbformat": 4,
  "nbformat_minor": 0,
  "metadata": {
    "colab": {
      "provenance": []
    },
    "kernelspec": {
      "name": "python3",
      "display_name": "Python 3"
    },
    "language_info": {
      "name": "python"
    }
  },
  "cells": [
    {
      "cell_type": "markdown",
      "source": [
        "**41. Calculate the sum of all the odd numbers between two given numbers.**"
      ],
      "metadata": {
        "id": "ITmWlMwm7UMd"
      }
    },
    {
      "cell_type": "code",
      "source": [
        "def sum_of_odd_numbers(start, end):\n",
        "    total_sum = 0\n",
        "    for num in range(start, end+1): #In order to include the end value, you need to add 1 to the end value when using the range function.\n",
        "        if num % 2 != 0:  # Check if the number is odd\n",
        "            total_sum += num\n",
        "    return total_sum\n",
        "\n",
        "# Example usage\n",
        "start_num = int(input(\"Enter the start number: \"))\n",
        "end_num = int(input(\"Enter the end number: \"))\n",
        "\n",
        "sum_of_odds = sum_of_odd_numbers(start_num, end_num)\n",
        "print(\"Sum of odd numbers:\", sum_of_odds)\n"
      ],
      "metadata": {
        "colab": {
          "base_uri": "https://localhost:8080/"
        },
        "id": "2IHk5QoJ7Wax",
        "outputId": "c976605c-fc8b-4001-9d02-200bed7cf5a4"
      },
      "execution_count": 122,
      "outputs": [
        {
          "output_type": "stream",
          "name": "stdout",
          "text": [
            "Enter the start number: 1\n",
            "Enter the end number: 10\n",
            "Sum of odd numbers: 25\n"
          ]
        }
      ]
    }
  ]
}