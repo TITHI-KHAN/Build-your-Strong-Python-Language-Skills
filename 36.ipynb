{
  "nbformat": 4,
  "nbformat_minor": 0,
  "metadata": {
    "colab": {
      "provenance": []
    },
    "kernelspec": {
      "name": "python3",
      "display_name": "Python 3"
    },
    "language_info": {
      "name": "python"
    }
  },
  "cells": [
    {
      "cell_type": "markdown",
      "source": [
        "**36. Check if all elements in a list are unique.**"
      ],
      "metadata": {
        "id": "ITmWlMwm7UMd"
      }
    },
    {
      "cell_type": "code",
      "source": [
        "def are_all_elements_unique(lst):\n",
        "    return len(liist) == len(set(liist))\n",
        "\n",
        "# User input\n",
        "elements = input(\"Enter elements of the list, separated by spaces: \").split() #The input is split using the split() method to obtain individual elements as strings.\n",
        "\n",
        "# Convert elements to the desired data type (e.g., integers, floats)\n",
        "liist = [int(element) for element in elements] #Then, a list comprehension is used to convert each string element to the desired data type.\n",
        "\n",
        "# Check if all elements in the list are unique\n",
        "result = are_all_elements_unique(liist)\n",
        "\n",
        "# Print the result\n",
        "if result:\n",
        "    print(\"All elements in the list are unique.\")\n",
        "else:\n",
        "    print(\"Not all elements in the list are unique.\")\n"
      ],
      "metadata": {
        "colab": {
          "base_uri": "https://localhost:8080/"
        },
        "id": "2IHk5QoJ7Wax",
        "outputId": "aed8a76e-ccbf-415a-badc-4aea7cfb3fea"
      },
      "execution_count": 101,
      "outputs": [
        {
          "output_type": "stream",
          "name": "stdout",
          "text": [
            "Enter elements of the list, separated by spaces: 1 2 5 4 9\n",
            "All elements in the list are unique.\n"
          ]
        }
      ]
    },
    {
      "cell_type": "code",
      "source": [
        "#other way\n",
        "\n",
        "def are_all_elements_unique(liist):\n",
        "    return len(liist) == len(set(liist))\n",
        "\n",
        "# User input\n",
        "elements = input(\"Enter elements of the list, separated by spaces: \").split() #The input is split using the split() method to obtain individual elements as strings.\n",
        "\n",
        "# Check if all elements in the list are unique\n",
        "result = are_all_elements_unique(elements)\n",
        "\n",
        "# Print the result\n",
        "if result:\n",
        "    print(\"All elements in the list are unique.\")\n",
        "else:\n",
        "    print(\"Not all elements in the list are unique.\")\n"
      ],
      "metadata": {
        "id": "NOrgJfcxmeFu",
        "outputId": "b13c4240-6b80-4afa-ce19-28ee7ded212e",
        "colab": {
          "base_uri": "https://localhost:8080/"
        }
      },
      "execution_count": 102,
      "outputs": [
        {
          "output_type": "stream",
          "name": "stdout",
          "text": [
            "Enter elements of the list, separated by spaces: 1 2 2 3 5\n",
            "Not all elements in the list are unique.\n"
          ]
        }
      ]
    }
  ]
}