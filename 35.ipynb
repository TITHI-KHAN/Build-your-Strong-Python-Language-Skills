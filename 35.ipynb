{
  "nbformat": 4,
  "nbformat_minor": 0,
  "metadata": {
    "colab": {
      "provenance": []
    },
    "kernelspec": {
      "name": "python3",
      "display_name": "Python 3"
    },
    "language_info": {
      "name": "python"
    }
  },
  "cells": [
    {
      "cell_type": "markdown",
      "source": [
        "**35. Sort a list of integers in ascending order.**"
      ],
      "metadata": {
        "id": "ITmWlMwm7UMd"
      }
    },
    {
      "cell_type": "code",
      "source": [
        "# User input\n",
        "numbers = input(\"Enter a list of integers, separated by spaces: \").split() #he input is split using the split() method to obtain individual numbers as strings. Then, a list comprehension is used to convert each string number to an integer.\n",
        "numbers = [int(num) for num in numbers]\n",
        "\n",
        "# Sort the list in ascending order\n",
        "numbers.sort()\n",
        "\n",
        "# Print the sorted list\n",
        "print(\"Sorted list:\", numbers)\n"
      ],
      "metadata": {
        "colab": {
          "base_uri": "https://localhost:8080/"
        },
        "id": "2IHk5QoJ7Wax",
        "outputId": "a9613bbd-a7e0-48ba-8491-aa8a3a7d1a1b"
      },
      "execution_count": 99,
      "outputs": [
        {
          "output_type": "stream",
          "name": "stdout",
          "text": [
            "Enter a list of integers, separated by spaces: 9 2 5 1 7 3\n",
            "Sorted list: [1, 2, 3, 5, 7, 9]\n"
          ]
        }
      ]
    },
    {
      "cell_type": "code",
      "source": [
        "#Other way\n",
        "\n",
        "# User input\n",
        "numbers = [int(num) for num in input(\"Enter a list of integers, separated by spaces: \").split()] #The input is split using the split() method, and each split element is converted directly to an integer using int() within the list comprehension.\n",
        "\n",
        "# Sort the list in ascending order\n",
        "numbers.sort()\n",
        "\n",
        "# Print the sorted list\n",
        "print(\"Sorted list:\", numbers)\n"
      ],
      "metadata": {
        "id": "bDcGe0cjk4O0",
        "outputId": "78b62c1e-c6de-4b24-a61b-7e3596579c4d",
        "colab": {
          "base_uri": "https://localhost:8080/"
        }
      },
      "execution_count": 100,
      "outputs": [
        {
          "output_type": "stream",
          "name": "stdout",
          "text": [
            "Enter a list of integers, separated by spaces: 9 2 5 1 7 3 5 9\n",
            "Sorted list: [1, 2, 3, 5, 5, 7, 9, 9]\n"
          ]
        }
      ]
    }
  ]
}