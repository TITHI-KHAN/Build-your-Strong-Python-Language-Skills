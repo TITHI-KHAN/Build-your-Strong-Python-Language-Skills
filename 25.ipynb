{
  "nbformat": 4,
  "nbformat_minor": 0,
  "metadata": {
    "colab": {
      "provenance": []
    },
    "kernelspec": {
      "name": "python3",
      "display_name": "Python 3"
    },
    "language_info": {
      "name": "python"
    }
  },
  "cells": [
    {
      "cell_type": "markdown",
      "source": [
        "**25. Check if a given string is an anagram of another string.**"
      ],
      "metadata": {
        "id": "ITmWlMwm7UMd"
      }
    },
    {
      "cell_type": "markdown",
      "source": [
        "\n",
        "An anagram is a word or phrase formed by rearranging the letters of another word or phrase. In other words, two strings are considered anagrams if they have the same characters, but in a different order."
      ],
      "metadata": {
        "id": "GApZThyoZSvZ"
      }
    },
    {
      "cell_type": "code",
      "source": [
        "def is_anagram(str1, str2):\n",
        "    if len(str1) != len(str2):\n",
        "        return False\n",
        "    else:\n",
        "        sorted_str1 = sorted(str1.lower())\n",
        "        sorted_str2 = sorted(str2.lower())\n",
        "        return sorted_str1 == sorted_str2\n",
        "\n",
        "\n",
        "#we define a function called is_anagram that takes two strings as input.\n",
        "#Inside the function, we first check if the lengths of the two strings are different.\n",
        "#If they are, then the strings cannot be anagrams, and we return False.\n",
        "#Otherwise, we proceed with checking the anagram condition.\n",
        "#We convert both strings to lowercase using the lower() method to make the comparison case-insensitive.\n",
        "#Then, we sort the characters of both strings using the sorted() function, which returns a sorted list of characters.\n",
        "#We compare the sorted versions of the two strings using the == operator to check if they are equal.\n",
        "#If they are equal, then the strings are anagrams, and we return True. Otherwise, they are not anagrams, and we return False.\n",
        "\n",
        "# Example usage\n",
        "input_str1 = input(\"Enter the first string: \")\n",
        "input_str2 = input(\"Enter the second string: \")\n",
        "\n",
        "if is_anagram(input_str1, input_str2):\n",
        "    print(\"The strings are anagrams.\")\n",
        "else:\n",
        "    print(\"The strings are not anagrams.\")\n"
      ],
      "metadata": {
        "colab": {
          "base_uri": "https://localhost:8080/"
        },
        "id": "2IHk5QoJ7Wax",
        "outputId": "5b71aaa1-5f49-422d-c39e-fa1241f33a81"
      },
      "execution_count": 71,
      "outputs": [
        {
          "output_type": "stream",
          "name": "stdout",
          "text": [
            "Enter the first string: Listen\n",
            "Enter the second string: silent\n",
            "The strings are anagrams.\n"
          ]
        }
      ]
    }
  ]
}