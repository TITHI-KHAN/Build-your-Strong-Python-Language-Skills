{
  "nbformat": 4,
  "nbformat_minor": 0,
  "metadata": {
    "colab": {
      "provenance": []
    },
    "kernelspec": {
      "name": "python3",
      "display_name": "Python 3"
    },
    "language_info": {
      "name": "python"
    }
  },
  "cells": [
    {
      "cell_type": "markdown",
      "source": [
        "**22. Find the length of the longest word in a sentence.**"
      ],
      "metadata": {
        "id": "ITmWlMwm7UMd"
      }
    },
    {
      "cell_type": "code",
      "source": [
        "def find_longest_word(sentence):\n",
        "    words = sentence.split()\n",
        "    longest_word_length = 0\n",
        "    for word in words:\n",
        "        word_length = len(word)\n",
        "        if word_length > longest_word_length:\n",
        "            longest_word_length = word_length\n",
        "    return longest_word_length\n",
        "\n",
        "# Example usage\n",
        "input_sentence = input(\"Enter a sentence: \")\n",
        "\n",
        "longest_word_length = find_longest_word(input_sentence)\n",
        "\n",
        "print(\"Length of the longest word:\", longest_word_length)\n"
      ],
      "metadata": {
        "colab": {
          "base_uri": "https://localhost:8080/"
        },
        "id": "2IHk5QoJ7Wax",
        "outputId": "2e6ec517-9cbc-46dc-96d4-a3356a9013a4"
      },
      "execution_count": 61,
      "outputs": [
        {
          "output_type": "stream",
          "name": "stdout",
          "text": [
            "Enter a sentence: My Name is Tithi\n",
            "Length of the longest word: 5\n"
          ]
        }
      ]
    }
  ]
}