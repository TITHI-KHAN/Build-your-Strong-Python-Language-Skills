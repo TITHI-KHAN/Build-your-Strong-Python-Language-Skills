{
  "nbformat": 4,
  "nbformat_minor": 0,
  "metadata": {
    "colab": {
      "provenance": []
    },
    "kernelspec": {
      "name": "python3",
      "display_name": "Python 3"
    },
    "language_info": {
      "name": "python"
    }
  },
  "cells": [
    {
      "cell_type": "markdown",
      "source": [
        "**48. Check if a given string is a palindrome ignoring spaces.**"
      ],
      "metadata": {
        "id": "ITmWlMwm7UMd"
      }
    },
    {
      "cell_type": "markdown",
      "source": [
        "To check if a given string is a palindrome while ignoring spaces, you can follow these steps:\n",
        "\n",
        "\n",
        "1.   Remove all the spaces from the string.\n",
        "2.   Reverse the string.\n",
        "2.   Compare the reversed string with the original string.\n",
        "\n",
        "\n",
        "\n",
        "\n",
        "\n"
      ],
      "metadata": {
        "id": "njE8MuPkzN5u"
      }
    },
    {
      "cell_type": "code",
      "source": [
        "def is_palindrome_ignore_spaces(string):\n",
        "    # Remove spaces from the string\n",
        "    string = string.replace(\" \", \"\")\n",
        "\n",
        "    # Reverse the string\n",
        "    reversed_string = string[::-1]\n",
        "\n",
        "    # Compare the reversed string with the original string\n",
        "    return string == reversed_string\n",
        "\n",
        "# Example usage\n",
        "input_string = \"race car\"\n",
        "result = is_palindrome_ignore_spaces(input_string)\n",
        "print(result)\n"
      ],
      "metadata": {
        "colab": {
          "base_uri": "https://localhost:8080/"
        },
        "id": "2IHk5QoJ7Wax",
        "outputId": "9ae9665c-d36c-4d41-e0f5-790631b62883"
      },
      "execution_count": 148,
      "outputs": [
        {
          "output_type": "stream",
          "name": "stdout",
          "text": [
            "True\n"
          ]
        }
      ]
    },
    {
      "cell_type": "code",
      "source": [
        "#other way\n",
        "\n",
        "def is_palindrome_ignore_spaces(string):\n",
        "    # Remove spaces from the string\n",
        "    string = string.replace(\" \", \"\")\n",
        "\n",
        "    # Reverse the string\n",
        "    reversed_string = string[::-1]\n",
        "\n",
        "#string: This is the original string that you want to reverse.\n",
        "#[::-1]: This part is called slicing notation.\n",
        "#It specifies the slice of the string you want to extract.\n",
        "#In this case, [::-1] indicates that you want to extract the entire string, but in reverse order.\n",
        "\n",
        "    # Compare the reversed string with the original string\n",
        "    return string == reversed_string\n",
        "\n",
        "# Take user input for the string\n",
        "input_string = input(\"Enter a string: \")\n",
        "\n",
        "# Check if the input string is a palindrome ignoring spaces\n",
        "result = is_palindrome_ignore_spaces(input_string)\n",
        "print(result)\n"
      ],
      "metadata": {
        "colab": {
          "base_uri": "https://localhost:8080/"
        },
        "id": "mq4F7MoUzqvY",
        "outputId": "ee2c5332-1ed7-498c-f845-c8436fdad7b6"
      },
      "execution_count": 154,
      "outputs": [
        {
          "output_type": "stream",
          "name": "stdout",
          "text": [
            "Enter a string: race car\n",
            "True\n"
          ]
        }
      ]
    }
  ]
}