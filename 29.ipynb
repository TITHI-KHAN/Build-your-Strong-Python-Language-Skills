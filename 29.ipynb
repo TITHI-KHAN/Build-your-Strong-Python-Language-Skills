{
  "nbformat": 4,
  "nbformat_minor": 0,
  "metadata": {
    "colab": {
      "provenance": []
    },
    "kernelspec": {
      "name": "python3",
      "display_name": "Python 3"
    },
    "language_info": {
      "name": "python"
    }
  },
  "cells": [
    {
      "cell_type": "markdown",
      "source": [
        "**29. Remove all the special characters from a string.**"
      ],
      "metadata": {
        "id": "ITmWlMwm7UMd"
      }
    },
    {
      "cell_type": "code",
      "source": [
        "import re #we import the re module, which provides support for regular expressions in Python.\n",
        "\n",
        "def remove_special_characters(input_string):\n",
        "    pattern = r'[^a-zA-Z0-9\\s]'  # Regular expression pattern to match special characters #used to match any character that is not an uppercase letter, lowercase letter, digit, or whitespace.\n",
        "    cleaned_string = re.sub(pattern, '', input_string) #We use the re.sub() function to substitute all the occurrences of the special characters matched by the pattern with an empty string.In the context of removing special characters from a string, it replaces the matched characters with an empty string, effectively removing them.\n",
        "    return cleaned_string\n",
        "\n",
        "# Example usage\n",
        "input_string = input(\"Enter a string: \")\n",
        "\n",
        "cleaned_string = remove_special_characters(input_string)\n",
        "\n",
        "print(\"String with special characters removed:\", cleaned_string)\n"
      ],
      "metadata": {
        "colab": {
          "base_uri": "https://localhost:8080/"
        },
        "id": "2IHk5QoJ7Wax",
        "outputId": "b6ec9201-320a-465f-fe45-db458f6e143c"
      },
      "execution_count": 79,
      "outputs": [
        {
          "output_type": "stream",
          "name": "stdout",
          "text": [
            "Enter a string: Hello! W@rld$\n",
            "String with special characters removed: Hello Wrld\n"
          ]
        }
      ]
    }
  ]
}