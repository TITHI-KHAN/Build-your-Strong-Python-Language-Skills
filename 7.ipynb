{
  "nbformat": 4,
  "nbformat_minor": 0,
  "metadata": {
    "colab": {
      "provenance": []
    },
    "kernelspec": {
      "name": "python3",
      "display_name": "Python 3"
    },
    "language_info": {
      "name": "python"
    }
  },
  "cells": [
    {
      "cell_type": "markdown",
      "source": [
        "**7. Reverse a given list of integers.**"
      ],
      "metadata": {
        "id": "ITmWlMwm7UMd"
      }
    },
    {
      "cell_type": "code",
      "source": [
        "def reverse_list(numbers):\n",
        "    return numbers[::-1] #We use slicing with a step of -1 ([::-1]) to reverse the order of the elements in the list.\n",
        "\n",
        "# Example usage\n",
        "input_list = input(\"Enter a list of integers, separated by spaces: \")\n",
        "input_list = list(map(int, input_list.split()))\n",
        "#The input string is split using the split() method to obtain individual numbers as strings. Then, we use map() and int() functions to convert the strings to integers, and the resulting list is stored in input_list.\n",
        "\n",
        "reversed_list = reverse_list(input_list)\n",
        "print(\"Reversed list:\", reversed_list)\n"
      ],
      "metadata": {
        "colab": {
          "base_uri": "https://localhost:8080/"
        },
        "id": "2IHk5QoJ7Wax",
        "outputId": "bb0d57ad-e7bb-49cc-b13c-20e304ed4b28"
      },
      "execution_count": 18,
      "outputs": [
        {
          "output_type": "stream",
          "name": "stdout",
          "text": [
            "Enter a list of integers, separated by spaces: 5 8 7 9 63\n",
            "Reversed list: [63, 9, 7, 8, 5]\n"
          ]
        }
      ]
    }
  ]
}