{
  "nbformat": 4,
  "nbformat_minor": 0,
  "metadata": {
    "colab": {
      "provenance": []
    },
    "kernelspec": {
      "name": "python3",
      "display_name": "Python 3"
    },
    "language_info": {
      "name": "python"
    }
  },
  "cells": [
    {
      "cell_type": "markdown",
      "source": [
        "**33. Remove the vowels from a string.**"
      ],
      "metadata": {
        "id": "ITmWlMwm7UMd"
      }
    },
    {
      "cell_type": "code",
      "source": [
        "def remove_vowels(string):\n",
        "    vowels = 'aeiouAEIOU'\n",
        "    return ''.join([char for char in string if char.lower() not in vowels]) #when you enter a string, it will remove both lowercase and uppercase vowels from the string\n",
        "\n",
        "# Example usage\n",
        "input_string = input(\"Enter a string: \")\n",
        "\n",
        "string_without_vowels = remove_vowels(input_string)\n",
        "\n",
        "print(\"String without vowels:\", string_without_vowels)\n"
      ],
      "metadata": {
        "colab": {
          "base_uri": "https://localhost:8080/"
        },
        "id": "2IHk5QoJ7Wax",
        "outputId": "2ec69b73-ccb0-4f81-f50b-fa61076c2ca1"
      },
      "execution_count": 93,
      "outputs": [
        {
          "output_type": "stream",
          "name": "stdout",
          "text": [
            "Enter a string: Hi My NAME iS Tithi\n",
            "String without vowels: H My NM S Tth\n"
          ]
        }
      ]
    }
  ]
}