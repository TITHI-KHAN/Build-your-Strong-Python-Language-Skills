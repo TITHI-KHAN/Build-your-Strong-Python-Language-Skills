{
  "nbformat": 4,
  "nbformat_minor": 0,
  "metadata": {
    "colab": {
      "provenance": []
    },
    "kernelspec": {
      "name": "python3",
      "display_name": "Python 3"
    },
    "language_info": {
      "name": "python"
    }
  },
  "cells": [
    {
      "cell_type": "markdown",
      "source": [
        "**39. Find the most frequent element in a list.**"
      ],
      "metadata": {
        "id": "ITmWlMwm7UMd"
      }
    },
    {
      "cell_type": "code",
      "source": [
        "import collections #In order to use the collections.Counter class, you need to import the collections module first.\n",
        "\n",
        "# List of elements\n",
        "data = [1, 3, 5, 3, 7, 5, 3, 1, 3, 9, 7, 3, 5]\n",
        "\n",
        "# Count the occurrences of each element\n",
        "counter = collections.Counter(data)\n",
        "#collections.Counter class is used to count the occurrences of each element in the list. The Counter takes the data list as input.\n",
        "\n",
        "# Find the most frequent element\n",
        "most_common_element = counter.most_common(1)[0][0]\n",
        "#counter.most_common(1) returns a list of tuples containing the most common elements and their counts.\n",
        "#By passing 1 as an argument to most_common(), we specify that we want only the most frequent element.\n",
        "#The returned list has the form [(element, count)], where element represents the most frequent element and count represents its count.\n",
        "#Since we are interested in the most frequent element itself, we access it using indexing [0] to retrieve the first tuple.\n",
        "#Finally, we use indexing [0] once again to access the element itself from the tuple. This gives us the most frequent element.\n",
        "\n",
        "# Print the most frequent element\n",
        "print(\"Most frequent element:\", most_common_element)\n"
      ],
      "metadata": {
        "colab": {
          "base_uri": "https://localhost:8080/"
        },
        "id": "2IHk5QoJ7Wax",
        "outputId": "30e147f2-d35f-4d67-cf1d-69ba1e6bd1d3"
      },
      "execution_count": 118,
      "outputs": [
        {
          "output_type": "stream",
          "name": "stdout",
          "text": [
            "Most frequent element: 3\n"
          ]
        }
      ]
    }
  ]
}