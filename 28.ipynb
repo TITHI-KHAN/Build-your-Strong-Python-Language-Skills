{
  "nbformat": 4,
  "nbformat_minor": 0,
  "metadata": {
    "colab": {
      "provenance": []
    },
    "kernelspec": {
      "name": "python3",
      "display_name": "Python 3"
    },
    "language_info": {
      "name": "python"
    }
  },
  "cells": [
    {
      "cell_type": "markdown",
      "source": [
        "**28. Given a list of strings, find the longest string.**"
      ],
      "metadata": {
        "id": "ITmWlMwm7UMd"
      }
    },
    {
      "cell_type": "code",
      "source": [
        "def find_longest_string(strings):\n",
        "    longest_string = \"\" # \"\" - an empty string\n",
        "    for string in strings:\n",
        "        if len(string) > len(longest_string):\n",
        "            longest_string = string\n",
        "    return longest_string\n",
        "\n",
        "# Example usage\n",
        "input_list = input(\"Enter a list of strings, separated by spaces: \").split()\n",
        "\n",
        "longest_string = find_longest_string(input_list)\n",
        "\n",
        "print(\"Longest string:\", longest_string)\n"
      ],
      "metadata": {
        "colab": {
          "base_uri": "https://localhost:8080/"
        },
        "id": "2IHk5QoJ7Wax",
        "outputId": "86926aab-0ea1-4b2f-ff90-2cbcd3b2c7db"
      },
      "execution_count": 76,
      "outputs": [
        {
          "output_type": "stream",
          "name": "stdout",
          "text": [
            "Enter a list of strings, separated by spaces: Hello World This is Tithii\n",
            "Longest string: Tithii\n"
          ]
        }
      ]
    }
  ]
}