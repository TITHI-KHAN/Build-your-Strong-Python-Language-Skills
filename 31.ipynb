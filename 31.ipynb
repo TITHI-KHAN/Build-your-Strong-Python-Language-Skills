{
  "nbformat": 4,
  "nbformat_minor": 0,
  "metadata": {
    "colab": {
      "provenance": []
    },
    "kernelspec": {
      "name": "python3",
      "display_name": "Python 3"
    },
    "language_info": {
      "name": "python"
    }
  },
  "cells": [
    {
      "cell_type": "markdown",
      "source": [
        "**31. Check if a given number is a palindrome.**"
      ],
      "metadata": {
        "id": "ITmWlMwm7UMd"
      }
    },
    {
      "cell_type": "code",
      "source": [
        "#To check if a given number is a palindrome, you can convert it to a string and compare the string with its reverse.\n",
        "#If they are the same, then the number is a palindrome.\n",
        "\n",
        "def is_palindrome(number):\n",
        "    number_str = str(number)\n",
        "    reversed_str = number_str[::-1] #We then use string slicing with a step of -1 ([::-1]) to obtain the reversed string.\n",
        "    if number_str == reversed_str:\n",
        "        return True\n",
        "    else:\n",
        "        return False\n",
        "\n",
        "# Example usage\n",
        "input_number = int(input(\"Enter a number: \"))\n",
        "\n",
        "if is_palindrome(input_number):\n",
        "    print(\"The number is a palindrome.\")\n",
        "else:\n",
        "    print(\"The number is not a palindrome.\")\n"
      ],
      "metadata": {
        "colab": {
          "base_uri": "https://localhost:8080/"
        },
        "id": "2IHk5QoJ7Wax",
        "outputId": "389b48b7-93f1-43d4-ccff-372c1014e794"
      },
      "execution_count": 84,
      "outputs": [
        {
          "output_type": "stream",
          "name": "stdout",
          "text": [
            "Enter a number: 313\n",
            "The number is a palindrome.\n"
          ]
        }
      ]
    },
    {
      "cell_type": "code",
      "source": [
        "#Other way\n",
        "\n",
        "def is_palindrome(number):\n",
        "    # Store a copy of the original number\n",
        "    original_number = number\n",
        "    reversed_number = 0\n",
        "\n",
        "    while number > 0:\n",
        "        # Extract the last digit of the number\n",
        "        last_digit = number % 10\n",
        "\n",
        "        # Build the reversed number by appending the last digit\n",
        "        reversed_number = (reversed_number * 10) + last_digit\n",
        "\n",
        "        # Remove the last digit from the number\n",
        "        number //= 10\n",
        "\n",
        "    if original_number == reversed_number:\n",
        "        return True\n",
        "    else:\n",
        "        return False\n",
        "\n",
        "# Example usage\n",
        "input_number = int(input(\"Enter a number: \"))\n",
        "\n",
        "if is_palindrome(input_number):\n",
        "    print(\"The number is a palindrome.\")\n",
        "else:\n",
        "    print(\"The number is not a palindrome.\")\n"
      ],
      "metadata": {
        "id": "fodBpxMlfGcX",
        "outputId": "adea056c-4223-4d18-e01d-38e0c57d46af",
        "colab": {
          "base_uri": "https://localhost:8080/"
        }
      },
      "execution_count": 88,
      "outputs": [
        {
          "output_type": "stream",
          "name": "stdout",
          "text": [
            "Enter a number: 22\n",
            "The number is a palindrome.\n"
          ]
        }
      ]
    }
  ]
}