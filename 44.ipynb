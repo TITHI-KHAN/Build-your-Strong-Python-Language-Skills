{
  "nbformat": 4,
  "nbformat_minor": 0,
  "metadata": {
    "colab": {
      "provenance": []
    },
    "kernelspec": {
      "name": "python3",
      "display_name": "Python 3"
    },
    "language_info": {
      "name": "python"
    }
  },
  "cells": [
    {
      "cell_type": "markdown",
      "source": [
        "**44. Given a list of integers, find the third largest element.**"
      ],
      "metadata": {
        "id": "ITmWlMwm7UMd"
      }
    },
    {
      "cell_type": "code",
      "source": [
        "def find_third_largest(numbers):\n",
        "    sorted_numbers = sorted(numbers, reverse=True) #It sorts the list in descending order.\n",
        "    if len(sorted_numbers) < 3:\n",
        "        return \"List doesn't have enough elements\"\n",
        "    else:\n",
        "        return sorted_numbers[2]\n",
        "#If the length of the sorted list is less than 3, it means the list doesn't have enough elements to find the third largest, and it returns a message indicating that.\n",
        "#Otherwise, it returns the element at index position 2, which represents the third largest element.\n",
        "\n",
        "# Example usage\n",
        "number_list = [10, 5, 8, 12, 3, 20, 15] #3,5,8,10,12,15,20\n",
        "third_largest = find_third_largest(number_list)\n",
        "print(\"Third largest element:\", third_largest)\n"
      ],
      "metadata": {
        "colab": {
          "base_uri": "https://localhost:8080/"
        },
        "id": "2IHk5QoJ7Wax",
        "outputId": "efdb3be9-7ac0-4d3e-b622-3dab0b3db870"
      },
      "execution_count": 138,
      "outputs": [
        {
          "output_type": "stream",
          "name": "stdout",
          "text": [
            "Third largest element: 12\n"
          ]
        }
      ]
    }
  ]
}