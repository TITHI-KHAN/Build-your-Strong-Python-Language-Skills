{
  "nbformat": 4,
  "nbformat_minor": 0,
  "metadata": {
    "colab": {
      "provenance": []
    },
    "kernelspec": {
      "name": "python3",
      "display_name": "Python 3"
    },
    "language_info": {
      "name": "python"
    }
  },
  "cells": [
    {
      "cell_type": "markdown",
      "source": [
        "**37. Given a list of tuples, sort them based on the second element.**"
      ],
      "metadata": {
        "id": "ITmWlMwm7UMd"
      }
    },
    {
      "cell_type": "code",
      "source": [
        "#Sorting the list based on the second element means that we want to rearrange the tuples in ascending order of the ages.\n",
        "\n",
        "# List of tuples\n",
        "data = [(\"Sharmin\", 35), (\"Tithi\", 27), (\"Biddut\", 32), (\"Tisha\", 28), (\"Kiron\", 17)]\n",
        "#the data list contains tuples, where each tuple represents a pair of values.\n",
        "#The sorting is based on the second element of each tuple.\n",
        "\n",
        "# Sort the list based on the second element\n",
        "data.sort(key=lambda x: x[1])  # Using sort()\n",
        "#The sort() function is used to sort the list in-place by specifying the key parameter as a lambda function that extracts the second element (x[1]) from each tuple.\n",
        "\n",
        "# Alternatively, use sorted() function to create a new sorted list\n",
        "sorted_data = sorted(data, key=lambda x: x[1]) # the key parameter is used to specify the lambda function for extracting the second element.\n",
        "\n",
        "# Print the sorted list\n",
        "print(\"Sorted list:\", data)\n",
        "print(\"Sorted list (using sorted()):\", sorted_data)\n"
      ],
      "metadata": {
        "colab": {
          "base_uri": "https://localhost:8080/"
        },
        "id": "2IHk5QoJ7Wax",
        "outputId": "235f06f7-08f5-4c08-ff00-65a7aaa9a4b0"
      },
      "execution_count": 107,
      "outputs": [
        {
          "output_type": "stream",
          "name": "stdout",
          "text": [
            "Sorted list: [('Kiron', 17), ('Tithi', 27), ('Tisha', 28), ('Biddut', 32), ('Sharmin', 35)]\n",
            "Sorted list (using sorted()): [('Kiron', 17), ('Tithi', 27), ('Tisha', 28), ('Biddut', 32), ('Sharmin', 35)]\n"
          ]
        }
      ]
    }
  ]
}