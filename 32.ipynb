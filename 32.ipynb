{
  "nbformat": 4,
  "nbformat_minor": 0,
  "metadata": {
    "colab": {
      "provenance": []
    },
    "kernelspec": {
      "name": "python3",
      "display_name": "Python 3"
    },
    "language_info": {
      "name": "python"
    }
  },
  "cells": [
    {
      "cell_type": "markdown",
      "source": [
        "**32. Given a list of integers, find the second smallest element.**"
      ],
      "metadata": {
        "id": "ITmWlMwm7UMd"
      }
    },
    {
      "cell_type": "code",
      "source": [
        "def find_second_smallest(numbers):\n",
        "    # Remove duplicates and sort the list\n",
        "    sorted_numbers = sorted(set(numbers))\n",
        "\n",
        "    if len(sorted_numbers) < 2:\n",
        "        return None  # Return None if the list has less than 2 unique elements\n",
        "\n",
        "    return sorted_numbers[1]  # Return the second element (index 1) from the sorted list\n",
        "\n",
        "# Example usage\n",
        "input_list = list(map(int, input(\"Enter a list of integers, separated by spaces: \").split())) #The input string is split and converted into a list of integers using map() and int().\n",
        "\n",
        "second_smallest = find_second_smallest(input_list)\n",
        "\n",
        "if second_smallest is not None:\n",
        "    print(\"Second smallest element:\", second_smallest)\n",
        "else:\n",
        "    print(\"The list does not have a second smallest element.\")\n"
      ],
      "metadata": {
        "colab": {
          "base_uri": "https://localhost:8080/"
        },
        "id": "2IHk5QoJ7Wax",
        "outputId": "69b7f326-5aaa-4792-8df9-4b54888a01e9"
      },
      "execution_count": 89,
      "outputs": [
        {
          "output_type": "stream",
          "name": "stdout",
          "text": [
            "Enter a list of integers, separated by spaces: 15 2 36 7 19\n",
            "Second smallest element: 7\n"
          ]
        }
      ]
    }
  ]
}