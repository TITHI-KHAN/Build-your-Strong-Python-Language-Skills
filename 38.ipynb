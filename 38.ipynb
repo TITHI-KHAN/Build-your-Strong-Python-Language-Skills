{
  "nbformat": 4,
  "nbformat_minor": 0,
  "metadata": {
    "colab": {
      "provenance": []
    },
    "kernelspec": {
      "name": "python3",
      "display_name": "Python 3"
    },
    "language_info": {
      "name": "python"
    }
  },
  "cells": [
    {
      "cell_type": "markdown",
      "source": [
        "**38. Remove the duplicates from a list of tuples.**"
      ],
      "metadata": {
        "id": "ITmWlMwm7UMd"
      }
    },
    {
      "cell_type": "code",
      "source": [
        "# List of tuples with duplicates\n",
        "data = [(\"Sharmin\", 33), (\"Tithi\", 27), (\"Biddut\", 32), (\"Tisha\", 28), (\"Kiron\", 17), (\"Tithi\", 27)]\n",
        "\n",
        "# Remove duplicates while preserving order\n",
        "unique_data = []\n",
        "seen = set()\n",
        "\n",
        "for item in data: #For each tuple item, we check if it has been encountered before using the in operator with the seen set. #If it hasn't been seen before, we append it to the unique_data list and add it to the seen set.\n",
        "    if item not in seen:\n",
        "        unique_data.append(item)\n",
        "        seen.add(item)\n",
        "\n",
        "# Print the list without duplicates\n",
        "print(\"List without duplicates:\", unique_data)\n"
      ],
      "metadata": {
        "colab": {
          "base_uri": "https://localhost:8080/"
        },
        "id": "2IHk5QoJ7Wax",
        "outputId": "dca9141d-a850-48e6-99fb-357cb0647982"
      },
      "execution_count": 117,
      "outputs": [
        {
          "output_type": "stream",
          "name": "stdout",
          "text": [
            "List without duplicates: [('Sharmin', 33), ('Tithi', 27), ('Biddut', 32), ('Tisha', 28), ('Kiron', 17)]\n"
          ]
        }
      ]
    }
  ]
}