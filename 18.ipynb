{
  "nbformat": 4,
  "nbformat_minor": 0,
  "metadata": {
    "colab": {
      "provenance": []
    },
    "kernelspec": {
      "name": "python3",
      "display_name": "Python 3"
    },
    "language_info": {
      "name": "python"
    }
  },
  "cells": [
    {
      "cell_type": "markdown",
      "source": [
        "**18. Write a program to check if a given string is a pangram.**"
      ],
      "metadata": {
        "id": "ITmWlMwm7UMd"
      }
    },
    {
      "cell_type": "markdown",
      "source": [
        "A pangram is a sentence that contains every letter of the alphabet at least once."
      ],
      "metadata": {
        "id": "2QQMT7mfOjKH"
      }
    },
    {
      "cell_type": "code",
      "source": [
        "import string\n",
        "\n",
        "def is_pangram(sentence):\n",
        "    sentence = sentence.lower()\n",
        "    alphabet = set(string.ascii_lowercase)\n",
        "    letters = set(sentence)\n",
        "\n",
        "    return alphabet.issubset(letters)\n",
        "\n",
        "#we first convert the input sentence to lowercase using the lower() method.\n",
        "#This ensures case-insensitive comparison.\n",
        "#We then create a set called alphabet that contains all the lowercase letters using string.ascii_lowercase.\n",
        "#Next, we create a set called letters that contains all the unique lowercase letters in the input sentence.\n",
        "#Finally, we use the issubset() method to check if the alphabet set is a subset of the letters set.\n",
        "#If it is, then the sentence contains all the letters of the alphabet, and we consider it a pangram.\n",
        "\n",
        "# Example usage\n",
        "input_sentence = input(\"Enter a sentence: \")\n",
        "\n",
        "if is_pangram(input_sentence):\n",
        "    print(\"The sentence is a pangram.\")\n",
        "else:\n",
        "    print(\"The sentence is not a pangram.\")\n"
      ],
      "metadata": {
        "colab": {
          "base_uri": "https://localhost:8080/"
        },
        "id": "2IHk5QoJ7Wax",
        "outputId": "186af423-8b1b-45df-9a00-9e7f396a6ca6"
      },
      "execution_count": 51,
      "outputs": [
        {
          "output_type": "stream",
          "name": "stdout",
          "text": [
            "Enter a sentence: The quick brown fox jumps over the lazy dog.\n",
            "The sentence is a pangram.\n"
          ]
        }
      ]
    }
  ]
}