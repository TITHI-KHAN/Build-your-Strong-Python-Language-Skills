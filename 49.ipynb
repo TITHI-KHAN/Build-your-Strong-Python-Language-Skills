{
  "nbformat": 4,
  "nbformat_minor": 0,
  "metadata": {
    "colab": {
      "provenance": []
    },
    "kernelspec": {
      "name": "python3",
      "display_name": "Python 3"
    },
    "language_info": {
      "name": "python"
    }
  },
  "cells": [
    {
      "cell_type": "markdown",
      "source": [
        "**49. Given a string, count the number of uppercase and lowercase letters.**"
      ],
      "metadata": {
        "id": "ITmWlMwm7UMd"
      }
    },
    {
      "cell_type": "code",
      "source": [
        "def count_upper_lower(string):\n",
        "    upper_count = 0\n",
        "    lower_count = 0\n",
        "\n",
        "    for char in string:\n",
        "        if char.isupper():\n",
        "            upper_count += 1\n",
        "        elif char.islower():\n",
        "            lower_count += 1\n",
        "\n",
        "    return upper_count, lower_count\n",
        "\n",
        "# Example usage\n",
        "input_string = \"Hello World\"\n",
        "upper, lower = count_upper_lower(input_string)\n",
        "print(\"Uppercase count:\", upper)\n",
        "print(\"Lowercase count:\", lower)\n"
      ],
      "metadata": {
        "colab": {
          "base_uri": "https://localhost:8080/"
        },
        "id": "2IHk5QoJ7Wax",
        "outputId": "c80a5377-f882-4eba-d579-9e54f18d5810"
      },
      "execution_count": 155,
      "outputs": [
        {
          "output_type": "stream",
          "name": "stdout",
          "text": [
            "Uppercase count: 2\n",
            "Lowercase count: 8\n"
          ]
        }
      ]
    },
    {
      "cell_type": "code",
      "source": [
        "#other way\n",
        "\n",
        "def count_upper_lower(string):\n",
        "    upper_count = 0\n",
        "    lower_count = 0\n",
        "\n",
        "    for char in string:\n",
        "        if char.isupper():\n",
        "            upper_count += 1\n",
        "        elif char.islower():\n",
        "            lower_count += 1\n",
        "\n",
        "    return upper_count, lower_count\n",
        "\n",
        "# Take user input for the string\n",
        "input_string = input(\"Enter a string: \")\n",
        "\n",
        "# Count the number of uppercase and lowercase letters\n",
        "upper, lower = count_upper_lower(input_string)\n",
        "print(\"Uppercase count:\", upper)\n",
        "print(\"Lowercase count:\", lower)\n"
      ],
      "metadata": {
        "colab": {
          "base_uri": "https://localhost:8080/"
        },
        "id": "2cpS8LIU0d4F",
        "outputId": "dbb2e70f-30f0-4fcc-dbb8-7be7b306b086"
      },
      "execution_count": 156,
      "outputs": [
        {
          "output_type": "stream",
          "name": "stdout",
          "text": [
            "Enter a string: Hi My Name is Tithi\n",
            "Uppercase count: 4\n",
            "Lowercase count: 11\n"
          ]
        }
      ]
    }
  ]
}