{
  "nbformat": 4,
  "nbformat_minor": 0,
  "metadata": {
    "colab": {
      "provenance": []
    },
    "kernelspec": {
      "name": "python3",
      "display_name": "Python 3"
    },
    "language_info": {
      "name": "python"
    }
  },
  "cells": [
    {
      "cell_type": "markdown",
      "source": [
        "**24. Given a list of integers, find the median.**"
      ],
      "metadata": {
        "id": "ITmWlMwm7UMd"
      }
    },
    {
      "cell_type": "code",
      "source": [
        "def find_median(numbers):\n",
        "    sorted_numbers = sorted(numbers) #we first sort the numbers using the sorted() function to ensure they are in ascending order.\n",
        "    length = len(sorted_numbers)\n",
        "    if length % 2 == 0:\n",
        "        mid1 = sorted_numbers[length // 2 - 1]\n",
        "        mid2 = sorted_numbers[length // 2]\n",
        "        median = (mid1 + mid2) / 2\n",
        "    else:\n",
        "        median = sorted_numbers[length // 2]\n",
        "    return median\n",
        "\n",
        "#If the length is even (i.e., divisible by 2), we calculate the two middle elements (mid1 and mid2) and take their average as the median.\n",
        "#If the length is odd, we directly take the middle element as the median.\n",
        "\n",
        "# Example usage\n",
        "input_list = input(\"Enter a list of integers, separated by spaces: \")\n",
        "input_list = list(map(int, input_list.split()))\n",
        "\n",
        "median = find_median(input_list)\n",
        "\n",
        "print(\"Median:\", median)\n"
      ],
      "metadata": {
        "colab": {
          "base_uri": "https://localhost:8080/"
        },
        "id": "2IHk5QoJ7Wax",
        "outputId": "e1f8ae63-2087-438b-c8c6-aee76190deae"
      },
      "execution_count": 65,
      "outputs": [
        {
          "output_type": "stream",
          "name": "stdout",
          "text": [
            "Enter a list of integers, separated by spaces: 9 3 2 4\n",
            "Median: 3.5\n"
          ]
        }
      ]
    }
  ]
}