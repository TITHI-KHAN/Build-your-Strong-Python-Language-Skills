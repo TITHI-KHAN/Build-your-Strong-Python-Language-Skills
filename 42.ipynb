{
  "nbformat": 4,
  "nbformat_minor": 0,
  "metadata": {
    "colab": {
      "provenance": []
    },
    "kernelspec": {
      "name": "python3",
      "display_name": "Python 3"
    },
    "language_info": {
      "name": "python"
    }
  },
  "cells": [
    {
      "cell_type": "markdown",
      "source": [
        "**42. Check if a given string is a valid email address.**"
      ],
      "metadata": {
        "id": "ITmWlMwm7UMd"
      }
    },
    {
      "cell_type": "code",
      "source": [
        "import re\n",
        "\n",
        "def is_valid_email(email):\n",
        "    pattern = r'^[\\w\\.-]+@[\\w\\.-]+\\.\\w+$'\n",
        "    if re.match(pattern, email):\n",
        "        return True\n",
        "    else:\n",
        "        return False\n",
        "\n",
        "#The pattern ^[\\w\\.-]+@[\\w\\.-]+\\.\\w+$ consists of the following components:\n",
        "#^ - Start of the string\n",
        "#[\\w\\.-]+ - One or more word characters (letters, digits, underscores), dots, or hyphens for the username part\n",
        "#@ - The at symbol\n",
        "#[\\w\\.-]+ - One or more word characters (letters, digits, underscores), dots, or hyphens for the domain name part\n",
        "#\\. - A literal dot (escaped with backslash)\n",
        "#\\w+ - One or more word characters (letters, digits, underscores) for the top-level domain (e.g., com, org, net)\n",
        "#$ - End of the string\n",
        "\n",
        "\n",
        "# Example usage\n",
        "email_address = input(\"Enter an email address: \")\n",
        "\n",
        "if is_valid_email(email_address):\n",
        "    print(\"Valid email address\")\n",
        "else:\n",
        "    print(\"Invalid email address\")\n"
      ],
      "metadata": {
        "colab": {
          "base_uri": "https://localhost:8080/"
        },
        "id": "2IHk5QoJ7Wax",
        "outputId": "08f779c4-58ba-4da7-d3ea-712fb75cd9bb"
      },
      "execution_count": 127,
      "outputs": [
        {
          "output_type": "stream",
          "name": "stdout",
          "text": [
            "Enter an email address: mimi.diya@example.com\n",
            "Valid email address\n"
          ]
        }
      ]
    }
  ]
}