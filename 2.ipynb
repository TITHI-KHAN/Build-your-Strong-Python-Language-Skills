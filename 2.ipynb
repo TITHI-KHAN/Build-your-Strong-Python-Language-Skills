{
  "nbformat": 4,
  "nbformat_minor": 0,
  "metadata": {
    "colab": {
      "provenance": []
    },
    "kernelspec": {
      "name": "python3",
      "display_name": "Python 3"
    },
    "language_info": {
      "name": "python"
    }
  },
  "cells": [
    {
      "cell_type": "markdown",
      "source": [
        "**2. Given a list of integers, find the maximum and minimum elements.**"
      ],
      "metadata": {
        "id": "ITmWlMwm7UMd"
      }
    },
    {
      "cell_type": "code",
      "source": [
        "def find_max_min(numbers):\n",
        "    if not numbers:\n",
        "        return None, None\n",
        "\n",
        "    min_element = max_element = numbers[0]\n",
        "    for num in numbers:\n",
        "        if num < min_element:\n",
        "            min_element = num\n",
        "        if num > max_element:\n",
        "            max_element = num\n",
        "\n",
        "    return max_element, min_element\n",
        "\n",
        "# Example usage\n",
        "input_list = [5, 2, 9, 1, 7, 3]\n",
        "maximum, minimum = find_max_min(input_list)\n",
        "print(\"Maximum element:\", maximum)\n",
        "print(\"Minimum element:\", minimum)\n"
      ],
      "metadata": {
        "colab": {
          "base_uri": "https://localhost:8080/"
        },
        "id": "2IHk5QoJ7Wax",
        "outputId": "544f7560-9011-4550-e75f-5cfc1a349896"
      },
      "execution_count": 6,
      "outputs": [
        {
          "output_type": "stream",
          "name": "stdout",
          "text": [
            "Maximum element: 9\n",
            "Minimum element: 1\n"
          ]
        }
      ]
    },
    {
      "cell_type": "code",
      "source": [
        "#Other way\n",
        "\n",
        "def find_max_min(numbers):\n",
        "    if not numbers:\n",
        "        return None, None\n",
        "\n",
        "    min_element = max_element = numbers[0]\n",
        "    for num in numbers:\n",
        "        if num < min_element:\n",
        "            min_element = num\n",
        "        if num > max_element:\n",
        "            max_element = num\n",
        "\n",
        "    return max_element, min_element\n",
        "\n",
        "# Prompt the user to enter a list of integers\n",
        "input_str = input(\"Enter a list of integers, separated by spaces: \")\n",
        "\n",
        "# Convert the input string to a list of integers\n",
        "input_list = list(map(int, input_str.split()))  #The input() function returns a string, which is then split into individual numbers using the split() method. We then use map() and int() functions to convert the strings to integers and store them in the input_list.\n",
        "\n",
        "# Call the find_max_min function with the input list\n",
        "maximum, minimum = find_max_min(input_list)\n",
        "\n",
        "# Print the maximum and minimum elements\n",
        "print(\"Maximum element:\", maximum)\n",
        "print(\"Minimum element:\", minimum)\n",
        "\n"
      ],
      "metadata": {
        "colab": {
          "base_uri": "https://localhost:8080/"
        },
        "id": "38IoKqYB7o9b",
        "outputId": "eb4b557a-18ff-4f74-a31d-66b16a267a38"
      },
      "execution_count": 7,
      "outputs": [
        {
          "output_type": "stream",
          "name": "stdout",
          "text": [
            "Enter a list of integers, separated by spaces: 55 63 4 2 0 78 9 1\n",
            "Maximum element: 78\n",
            "Minimum element: 0\n"
          ]
        }
      ]
    }
  ]
}