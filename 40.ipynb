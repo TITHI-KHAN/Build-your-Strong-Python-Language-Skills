{
  "nbformat": 4,
  "nbformat_minor": 0,
  "metadata": {
    "colab": {
      "provenance": []
    },
    "kernelspec": {
      "name": "python3",
      "display_name": "Python 3"
    },
    "language_info": {
      "name": "python"
    }
  },
  "cells": [
    {
      "cell_type": "markdown",
      "source": [
        "**40. Given two lists, find their common elements.**"
      ],
      "metadata": {
        "id": "ITmWlMwm7UMd"
      }
    },
    {
      "cell_type": "markdown",
      "source": [
        "Approach 1: Using the intersection() method"
      ],
      "metadata": {
        "id": "jTJCRVrasMBb"
      }
    },
    {
      "cell_type": "code",
      "source": [
        "list1 = [1, 2, 3, 4, 5]\n",
        "list2 = [4, 5, 6, 7, 8]\n",
        "\n",
        "common_elements = set(list1).intersection(list2)\n",
        "#Sets are unordered collections that only contain unique elements. Then, the intersection() method is used to find the common elements between the two sets.\n",
        "\n",
        "print(\"Common elements:\", common_elements)\n"
      ],
      "metadata": {
        "colab": {
          "base_uri": "https://localhost:8080/"
        },
        "id": "2IHk5QoJ7Wax",
        "outputId": "7a8f0081-0609-4eab-d6b7-a05515044ea3"
      },
      "execution_count": 119,
      "outputs": [
        {
          "output_type": "stream",
          "name": "stdout",
          "text": [
            "Common elements: {4, 5}\n"
          ]
        }
      ]
    },
    {
      "cell_type": "markdown",
      "source": [
        "Approach 2: Using the set() function"
      ],
      "metadata": {
        "id": "mbsuRD4GsNC2"
      }
    },
    {
      "cell_type": "code",
      "source": [
        "#other way\n",
        "list1 = [1, 2, 3, 4, 5]\n",
        "list2 = [4, 5, 6, 7, 8]\n",
        "\n",
        "common_elements = set(list1) & set(list2)\n",
        "#Sets are unordered collections that only contain unique elements. Then, the & operator is used to find the common elements between the two sets.\n",
        "\n",
        "print(\"Common elements:\", common_elements)\n"
      ],
      "metadata": {
        "colab": {
          "base_uri": "https://localhost:8080/"
        },
        "id": "7QCaH0RlsIIx",
        "outputId": "8422f5b1-d537-462a-9b97-be242123b5cf"
      },
      "execution_count": 120,
      "outputs": [
        {
          "output_type": "stream",
          "name": "stdout",
          "text": [
            "Common elements: {4, 5}\n"
          ]
        }
      ]
    }
  ]
}