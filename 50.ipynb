{
  "nbformat": 4,
  "nbformat_minor": 0,
  "metadata": {
    "colab": {
      "provenance": []
    },
    "kernelspec": {
      "name": "python3",
      "display_name": "Python 3"
    },
    "language_info": {
      "name": "python"
    }
  },
  "cells": [
    {
      "cell_type": "markdown",
      "source": [
        "**50. Write a program to remove duplicate characters from a string.**"
      ],
      "metadata": {
        "id": "ITmWlMwm7UMd"
      }
    },
    {
      "cell_type": "code",
      "source": [
        "def remove_duplicates(string):\n",
        "    # Create an empty set to store unique characters\n",
        "    unique_chars = set()\n",
        "\n",
        "    # Create an empty string to store the result\n",
        "    result = \"\"\n",
        "\n",
        "    # Iterate over each character in the string\n",
        "    for char in string:\n",
        "        # Check if the character is already encountered\n",
        "        if char not in unique_chars:\n",
        "            # Add the character to the set of unique characters\n",
        "            unique_chars.add(char)\n",
        "            # Append the character to the result string\n",
        "            result += char\n",
        "\n",
        "    return result\n",
        "\n",
        "# Example usage\n",
        "input_string = \"Hello World\"\n",
        "result_string = remove_duplicates(input_string)\n",
        "print(result_string)\n"
      ],
      "metadata": {
        "colab": {
          "base_uri": "https://localhost:8080/"
        },
        "id": "2IHk5QoJ7Wax",
        "outputId": "2ec81e7d-7a32-414e-9d29-a6e0539100a0"
      },
      "execution_count": 157,
      "outputs": [
        {
          "output_type": "stream",
          "name": "stdout",
          "text": [
            "Helo Wrd\n"
          ]
        }
      ]
    },
    {
      "cell_type": "code",
      "source": [
        "#other way\n",
        "\n",
        "def remove_duplicates(string):\n",
        "    unique_chars = set()\n",
        "    result = \"\"\n",
        "\n",
        "    for char in string:\n",
        "        if char not in unique_chars:\n",
        "            unique_chars.add(char)\n",
        "            result += char\n",
        "\n",
        "    return result\n",
        "\n",
        "# Take user input for the string\n",
        "input_string = input(\"Enter a string: \")\n",
        "\n",
        "# Remove duplicate characters from the input string\n",
        "result_string = remove_duplicates(input_string)\n",
        "print(result_string)\n",
        "\n"
      ],
      "metadata": {
        "colab": {
          "base_uri": "https://localhost:8080/"
        },
        "id": "2cpS8LIU0d4F",
        "outputId": "1feed086-c3f3-463f-ae9d-6866273ad902"
      },
      "execution_count": 158,
      "outputs": [
        {
          "output_type": "stream",
          "name": "stdout",
          "text": [
            "Enter a string: Hello World!\n",
            "Helo Wrd!\n"
          ]
        }
      ]
    }
  ]
}