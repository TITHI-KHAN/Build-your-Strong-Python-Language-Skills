{
  "nbformat": 4,
  "nbformat_minor": 0,
  "metadata": {
    "colab": {
      "provenance": []
    },
    "kernelspec": {
      "name": "python3",
      "display_name": "Python 3"
    },
    "language_info": {
      "name": "python"
    }
  },
  "cells": [
    {
      "cell_type": "markdown",
      "source": [
        "**8. Find the second largest element in a list of integers.**"
      ],
      "metadata": {
        "id": "ITmWlMwm7UMd"
      }
    },
    {
      "cell_type": "code",
      "source": [
        "def find_second_largest(numbers):\n",
        "    if len(numbers) < 2:\n",
        "        return None\n",
        "\n",
        "    largest = second_largest = float('-inf') #negative infinity (float('-inf')) to handle the case where the list does not have a second largest element.\n",
        "    for num in numbers:\n",
        "        if num > largest:\n",
        "            second_largest = largest\n",
        "            largest = num\n",
        "        elif num > second_largest and num != largest:\n",
        "            second_largest = num\n",
        "\n",
        "    if second_largest == float('-inf'):\n",
        "        return None\n",
        "    else:\n",
        "        return second_largest\n",
        "\n",
        "#If a number is greater than largest, we update both largest and second_largest accordingly.\n",
        "#If a number is greater than second_largest but not equal to largest, we update second_largest only.\n",
        "#Finally, we return the value of second_largest.\n",
        "\n",
        "# Example usage\n",
        "input_list = input(\"Enter a list of integers, separated by spaces: \")\n",
        "input_list = list(map(int, input_list.split()))\n",
        "#The input string is split using the split() method to obtain individual numbers as strings.\n",
        "#Then, we use map() and int() functions to convert the strings to integers, and the resulting list is stored in input_list.\n",
        "\n",
        "second_largest = find_second_largest(input_list)\n",
        "\n",
        "if second_largest is None:\n",
        "    print(\"There is no second largest element in the list.\")\n",
        "else:\n",
        "    print(\"The second largest element is:\", second_largest)\n"
      ],
      "metadata": {
        "colab": {
          "base_uri": "https://localhost:8080/"
        },
        "id": "2IHk5QoJ7Wax",
        "outputId": "c2270210-1609-46da-c06e-a9e65dcf8200"
      },
      "execution_count": 20,
      "outputs": [
        {
          "output_type": "stream",
          "name": "stdout",
          "text": [
            "Enter a list of integers, separated by spaces: 55 84 63 20 1\n",
            "The second largest element is: 63\n"
          ]
        }
      ]
    }
  ]
}