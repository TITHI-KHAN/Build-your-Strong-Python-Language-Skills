{
  "nbformat": 4,
  "nbformat_minor": 0,
  "metadata": {
    "colab": {
      "provenance": []
    },
    "kernelspec": {
      "name": "python3",
      "display_name": "Python 3"
    },
    "language_info": {
      "name": "python"
    }
  },
  "cells": [
    {
      "cell_type": "markdown",
      "source": [
        "**14. Given a list of strings, concatenate them into a single string.**"
      ],
      "metadata": {
        "id": "ITmWlMwm7UMd"
      }
    },
    {
      "cell_type": "code",
      "source": [
        "def concatenate_strings(strings):\n",
        "    return ''.join(strings) #We use the join() method to concatenate all the strings in the list into a single string. #an empty string ''\n",
        "\n",
        "# Example usage\n",
        "input_list = input(\"Enter a list of strings, separated by spaces: \")\n",
        "input_list = input_list.split()\n",
        "\n",
        "concatenated_string = concatenate_strings(input_list)\n",
        "\n",
        "print(\"Concatenated string:\", concatenated_string)\n"
      ],
      "metadata": {
        "colab": {
          "base_uri": "https://localhost:8080/"
        },
        "id": "2IHk5QoJ7Wax",
        "outputId": "76923624-14d5-4f50-c629-83cc5d1828f1"
      },
      "execution_count": 32,
      "outputs": [
        {
          "output_type": "stream",
          "name": "stdout",
          "text": [
            "Enter a list of strings, separated by spaces: H e l l o \n",
            "Concatenated string: Hello\n"
          ]
        }
      ]
    }
  ]
}