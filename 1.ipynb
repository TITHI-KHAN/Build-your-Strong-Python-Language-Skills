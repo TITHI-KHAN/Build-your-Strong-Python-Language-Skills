{
  "nbformat": 4,
  "nbformat_minor": 0,
  "metadata": {
    "colab": {
      "provenance": []
    },
    "kernelspec": {
      "name": "python3",
      "display_name": "Python 3"
    },
    "language_info": {
      "name": "python"
    }
  },
  "cells": [
    {
      "cell_type": "markdown",
      "source": [
        "**1. Write a program to find the sum of all numbers from 1 to N.**"
      ],
      "metadata": {
        "id": "ITmWlMwm7UMd"
      }
    },
    {
      "cell_type": "code",
      "source": [
        "def calculate_sum(n):\n",
        "    total_sum = 0\n",
        "    for i in range(1, n+1):\n",
        "        total_sum += i\n",
        "    return total_sum\n",
        "\n",
        "# Example usage\n",
        "N = 10\n",
        "result = calculate_sum(N)\n",
        "print(\"The sum of all numbers from 1 to\", N, \"is:\", result)\n"
      ],
      "metadata": {
        "colab": {
          "base_uri": "https://localhost:8080/"
        },
        "id": "2IHk5QoJ7Wax",
        "outputId": "2f0fbabe-1c7a-4768-f83e-6dce8f014390"
      },
      "execution_count": 1,
      "outputs": [
        {
          "output_type": "stream",
          "name": "stdout",
          "text": [
            "The sum of all numbers from 1 to 10 is: 55\n"
          ]
        }
      ]
    },
    {
      "cell_type": "code",
      "source": [
        "#Other way\n",
        "\n",
        "def calculate_sum(n):\n",
        "    total_sum = 0\n",
        "    for i in range(1, n+1):\n",
        "        total_sum += i\n",
        "    return total_sum\n",
        "\n",
        "# Prompt the user to enter the value of n\n",
        "n = int(input(\"Enter the value of n: \"))\n",
        "\n",
        "# Calculate the sum using the calculate_sum function\n",
        "result = calculate_sum(n)\n",
        "\n",
        "# Print the result\n",
        "print(\"The sum of all numbers from 1 to\", n, \"is:\", result)\n"
      ],
      "metadata": {
        "colab": {
          "base_uri": "https://localhost:8080/"
        },
        "id": "38IoKqYB7o9b",
        "outputId": "9a91ea4e-fddc-4419-e81d-357fa39b7c6b"
      },
      "execution_count": 2,
      "outputs": [
        {
          "output_type": "stream",
          "name": "stdout",
          "text": [
            "Enter the value of n: 5\n",
            "The sum of all numbers from 1 to 5 is: 15\n"
          ]
        }
      ]
    }
  ]
}