{
  "nbformat": 4,
  "nbformat_minor": 0,
  "metadata": {
    "colab": {
      "provenance": []
    },
    "kernelspec": {
      "name": "python3",
      "display_name": "Python 3"
    },
    "language_info": {
      "name": "python"
    }
  },
  "cells": [
    {
      "cell_type": "markdown",
      "source": [
        "**9. Write a program to remove duplicates from a list.**"
      ],
      "metadata": {
        "id": "ITmWlMwm7UMd"
      }
    },
    {
      "cell_type": "code",
      "source": [
        "def remove_duplicates(input_list):\n",
        "    return list(set(input_list))\n",
        "\n",
        "#We convert the list to a set using the set() function, which automatically removes duplicates since sets only contain unique elements.\n",
        "#Then, we convert the set back to a list using the list() function, preserving the order of the elements.\n",
        "#The resulting list contains only the unique elements.\n",
        "\n",
        "# Example usage\n",
        "input_list = input(\"Enter a list of elements, separated by spaces: \")\n",
        "input_list = input_list.split()\n",
        "\n",
        "unique_list = remove_duplicates(input_list)\n",
        "\n",
        "print(\"List with duplicates removed:\", unique_list)\n"
      ],
      "metadata": {
        "colab": {
          "base_uri": "https://localhost:8080/"
        },
        "id": "2IHk5QoJ7Wax",
        "outputId": "7afb33a9-8463-4f19-8b2c-0e3407f873e9"
      },
      "execution_count": 22,
      "outputs": [
        {
          "output_type": "stream",
          "name": "stdout",
          "text": [
            "Enter a list of elements, separated by spaces: H e l l o \n",
            "List with duplicates removed: ['e', 'o', 'H', 'l']\n"
          ]
        }
      ]
    }
  ]
}