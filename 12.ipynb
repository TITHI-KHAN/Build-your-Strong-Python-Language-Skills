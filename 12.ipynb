{
  "nbformat": 4,
  "nbformat_minor": 0,
  "metadata": {
    "colab": {
      "provenance": []
    },
    "kernelspec": {
      "name": "python3",
      "display_name": "Python 3"
    },
    "language_info": {
      "name": "python"
    }
  },
  "cells": [
    {
      "cell_type": "markdown",
      "source": [
        "**12. Find the intersection of two lists.**"
      ],
      "metadata": {
        "id": "ITmWlMwm7UMd"
      }
    },
    {
      "cell_type": "code",
      "source": [
        "def find_intersection(list1, list2):\n",
        "    set1 = set(list1) #we convert both lists to sets using the set() function to eliminate duplicate elements.\n",
        "    set2 = set(list2)\n",
        "    intersection = set1.intersection(set2)\n",
        "    return list(intersection)\n",
        "\n",
        "# Example usage\n",
        "input_list1 = input(\"Enter elements for the first list, separated by spaces: \")\n",
        "input_list1 = input_list1.split()\n",
        "\n",
        "input_list2 = input(\"Enter elements for the second list, separated by spaces: \")\n",
        "input_list2 = input_list2.split()\n",
        "\n",
        "intersection = find_intersection(input_list1, input_list2)\n",
        "\n",
        "print(\"Intersection of the two lists:\", intersection)\n"
      ],
      "metadata": {
        "colab": {
          "base_uri": "https://localhost:8080/"
        },
        "id": "2IHk5QoJ7Wax",
        "outputId": "f6edd66e-6841-4dc3-8998-32dd2ef259f6"
      },
      "execution_count": 30,
      "outputs": [
        {
          "output_type": "stream",
          "name": "stdout",
          "text": [
            "Enter elements for the first list, separated by spaces: 5 12 2 32 8\n",
            "Enter elements for the second list, separated by spaces: 13 5 41\n",
            "Intersection of the two lists: ['5']\n"
          ]
        }
      ]
    }
  ]
}